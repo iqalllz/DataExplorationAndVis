{
 "cells": [
  {
   "cell_type": "code",
   "execution_count": null,
   "id": "3ab73794",
   "metadata": {
    "vscode": {
     "languageId": "plaintext"
    }
   },
   "outputs": [],
   "source": [
    "from src.data_loader import load_data, clean_data\n",
    "from src.modeling import train_random_forest, explain_model\n",
    "\n",
    "# Load & clean\n",
    "df = load_data(\"../data/BMW_Car_Sales_Classification.csv\")\n",
    "df = clean_data(df)\n",
    "\n",
    "# Train model\n",
    "model, report, (X_test, y_test) = train_random_forest(df, \"Sales_Classification\")\n",
    "print(report)\n",
    "\n",
    "# Explain model\n",
    "explain_model(model, X_test.sample(100))\n"
   ]
  }
 ],
 "metadata": {
  "language_info": {
   "name": "python"
  }
 },
 "nbformat": 4,
 "nbformat_minor": 5
}
